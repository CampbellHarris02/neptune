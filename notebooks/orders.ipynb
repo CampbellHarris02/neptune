{
 "cells": [
  {
   "cell_type": "code",
   "execution_count": 1,
   "id": "e43c8ea1",
   "metadata": {},
   "outputs": [
    {
     "name": "stdout",
     "output_type": "stream",
     "text": [
      "✅ portfolio.json created.\n"
     ]
    }
   ],
   "source": [
    "import json\n",
    "\n",
    "ASSETS = {\n",
    "    \"BTC/USD\", \"ETH/USD\", \"BNB/USD\", \"SOL/USD\", \"XRP/USD\", \"TON/USD\",\n",
    "    \"DOGE/USD\", \"ADA/USD\", \"DOT/USD\", \"AVAX/USD\", \"LINK/USD\", \"MATIC/USD\",\n",
    "    \"SHIB/USD\", \"ATOM/USD\", \"LTC/USD\", \"TRX/USD\", \"XLM/USD\", \"FIL/USD\",\n",
    "    \"UNI/USD\", \"ALGO/USD\", \"EGLD/USD\", \"AAVE/USD\", \"NEAR/USD\", \"XTZ/USD\", \"CRV/USD\"\n",
    "}\n",
    "\n",
    "portfolio = {symbol: 0 for symbol in ASSETS}\n",
    "portfolio[\"USDT/USD\"] = 100\n",
    "\n",
    "with open(\"portfolio.json\", \"w\") as f:\n",
    "    json.dump(portfolio, f, indent=2)\n",
    "\n",
    "print(\"✅ portfolio.json created.\")\n"
   ]
  }
 ],
 "metadata": {
  "kernelspec": {
   "display_name": ".venv",
   "language": "python",
   "name": "python3"
  },
  "language_info": {
   "codemirror_mode": {
    "name": "ipython",
    "version": 3
   },
   "file_extension": ".py",
   "mimetype": "text/x-python",
   "name": "python",
   "nbconvert_exporter": "python",
   "pygments_lexer": "ipython3",
   "version": "3.10.12"
  }
 },
 "nbformat": 4,
 "nbformat_minor": 5
}
